{
 "cells": [
  {
   "cell_type": "markdown",
   "id": "fc5f35af",
   "metadata": {},
   "source": [
    "## Pose Graph Optimization with GTSAM\n",
    "This notebook demonstrates a simple pose graph optimization (PGO) using the [GTSAM](https://gtsam.org) library."
   ]
  },
  {
   "cell_type": "code",
   "execution_count": null,
   "id": "b3a03fcf",
   "metadata": {},
   "outputs": [],
   "source": [
    "import gtsam\n",
    "from gtsam import Pose2, PriorFactorPose2, BetweenFactorPose2, NonlinearFactorGraph, Values, noiseModel\n",
    "from gtsam.symbol_shorthand import X\n",
    "import numpy as np\n",
    "\n",
    "# Build factor graph\n",
    "graph = NonlinearFactorGraph()\n",
    "\n",
    "# Prior on the first pose\n",
    "prior_model = noiseModel.Diagonal.Sigmas(np.array([0.01, 0.01, 0.01]))\n",
    "graph.add(PriorFactorPose2(X(0), Pose2(0, 0, 0), prior_model))\n",
    "\n",
    "# Odometry measurements\n",
    "odom_model = noiseModel.Diagonal.Sigmas(np.array([0.1, 0.1, 0.1]))\n",
    "graph.add(BetweenFactorPose2(X(0), X(1), Pose2(1, 0, 0), odom_model))\n",
    "graph.add(BetweenFactorPose2(X(1), X(2), Pose2(1, 0, 0), odom_model))\n",
    "\n",
    "# Loop closure measurement\n",
    "loop_model = noiseModel.Diagonal.Sigmas(np.array([0.1, 0.1, 0.1]))\n",
    "graph.add(BetweenFactorPose2(X(2), X(0), Pose2(-2, 0, 0), loop_model))\n",
    "\n",
    "# Initial estimate intentionally off\n",
    "initial = Values()\n",
    "initial.insert(X(0), Pose2(0, 0, 0))\n",
    "initial.insert(X(1), Pose2(2, 0, 0))\n",
    "initial.insert(X(2), Pose2(4, 0, 0))\n",
    "\n",
    "print('Initial error:', graph.error(initial))\n",
    "optimizer = gtsam.GaussNewtonOptimizer(graph, initial)\n",
    "result = optimizer.optimize()\n",
    "for i in range(3):\n",
    "    pose = result.atPose2(X(i))\n",
    "    print(f'Pose {i}:', pose)\n",
    "print('Final error:', graph.error(result))"
   ]
  },
  {
   "cell_type": "code",
   "execution_count": null,
   "id": "65f4b7b9",
   "metadata": {},
   "outputs": [],
   "source": [
    "import networkx as nx\n",
    "import matplotlib.pyplot as plt\n",
    "\n",
    "G = nx.Graph()\n",
    "poses = ['X0', 'X1', 'X2']\n",
    "G.add_nodes_from(poses)\n",
    "G.add_edges_from([('X0', 'X1'), ('X1', 'X2'), ('X2', 'X0')])\n",
    "\n",
    "pos = {'X0': (0, 0), 'X1': (1, 0), 'X2': (2, 0)}\n",
    "edge_labels = {('X0', 'X1'): 'odom', ('X1', 'X2'): 'odom', ('X2', 'X0'): 'loop'}\n",
    "\n",
    "nx.draw(G, pos, with_labels=True, node_color='lightblue')\n",
    "nx.draw_networkx_edge_labels(G, pos, edge_labels=edge_labels)\n",
    "plt.axis('equal')\n",
    "plt.show()\n"
   ]
  }
 ],
 "metadata": {
  "kernelspec": {
   "display_name": "Python 3",
   "language": "python",
   "name": "python3"
  },
  "language_info": {
   "name": "python"
  }
 },
 "nbformat": 4,
 "nbformat_minor": 5
}
